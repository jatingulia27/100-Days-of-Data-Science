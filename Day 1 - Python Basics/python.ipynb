{
 "cells": [
  {
   "cell_type": "markdown",
   "id": "d868ebf0",
   "metadata": {},
   "source": [
    "# PYTHON"
   ]
  },
  {
   "cell_type": "markdown",
   "id": "e6fe6f2d",
   "metadata": {},
   "source": [
    "# Print function\n"
   ]
  },
  {
   "cell_type": "code",
   "execution_count": 1,
   "id": "fa85a431",
   "metadata": {},
   "outputs": [
    {
     "name": "stdout",
     "output_type": "stream",
     "text": [
      "100 Days of data science\n"
     ]
    }
   ],
   "source": [
    "print(\"100 Days of data science\")"
   ]
  },
  {
   "cell_type": "code",
   "execution_count": 3,
   "id": "2c8f63ea",
   "metadata": {},
   "outputs": [
    {
     "name": "stdout",
     "output_type": "stream",
     "text": [
      "Day1\n"
     ]
    }
   ],
   "source": [
    "print('Day1')"
   ]
  },
  {
   "cell_type": "markdown",
   "id": "327ebb49",
   "metadata": {},
   "source": [
    "# Print function using (sep)\n"
   ]
  },
  {
   "cell_type": "code",
   "execution_count": 4,
   "id": "30496171",
   "metadata": {},
   "outputs": [
    {
     "name": "stdout",
     "output_type": "stream",
     "text": [
      "100/Days/of/data/science\n"
     ]
    }
   ],
   "source": [
    "print(\"100\", \"Days\", \"of\" ,\"data\" ,\"science\",sep='/')"
   ]
  },
  {
   "cell_type": "code",
   "execution_count": 5,
   "id": "f37925d8",
   "metadata": {},
   "outputs": [
    {
     "name": "stdout",
     "output_type": "stream",
     "text": [
      "100-Days-of-data-science\n"
     ]
    }
   ],
   "source": [
    "print(\"100\", \"Days\", \"of\" ,\"data\" ,\"science\",sep='-')"
   ]
  },
  {
   "cell_type": "markdown",
   "id": "814d15a8",
   "metadata": {},
   "source": [
    "# Using of end"
   ]
  },
  {
   "cell_type": "raw",
   "id": "0fd1b3d8",
   "metadata": {},
   "source": [
    "print('Data')\n",
    "print('Science')"
   ]
  },
  {
   "cell_type": "code",
   "execution_count": 8,
   "id": "e5958250",
   "metadata": {},
   "outputs": [
    {
     "name": "stdout",
     "output_type": "stream",
     "text": [
      "Data Science\n"
     ]
    }
   ],
   "source": [
    "#but if we want to print both statments in one line so we use END\n",
    "print('Data',end=' ')\n",
    "print('Science')"
   ]
  },
  {
   "cell_type": "markdown",
   "id": "af2a7c4e",
   "metadata": {},
   "source": [
    "# Data Types\n",
    "\n",
    "<ul>\n",
    "<li>Text Type: str</li>\n",
    "<li>Numeric Types:\tint, float, complex\n",
    "</li>\n",
    "<li>Sequence Types:\tlist, tuple, range</li>\n",
    "<li>Mapping Type:\tdict\n",
    "</li>\n",
    "<li>Set Types: set, frozenset\n",
    "</li>\n",
    "<li>Boolean Type: bool\n",
    "</li>\n",
    "</ul>\n",
    "\n"
   ]
  },
  {
   "cell_type": "markdown",
   "id": "40b99182",
   "metadata": {},
   "source": [
    "# str\n"
   ]
  },
  {
   "cell_type": "code",
   "execution_count": 1,
   "id": "cd0c5310",
   "metadata": {},
   "outputs": [
    {
     "name": "stdout",
     "output_type": "stream",
     "text": [
      "Hello World\n"
     ]
    }
   ],
   "source": [
    "x = \"Hello World\"\n",
    "print(x)"
   ]
  },
  {
   "cell_type": "markdown",
   "id": "e944c62d",
   "metadata": {},
   "source": [
    "# int"
   ]
  },
  {
   "cell_type": "code",
   "execution_count": 11,
   "id": "ebf8cba6",
   "metadata": {},
   "outputs": [
    {
     "name": "stdout",
     "output_type": "stream",
     "text": [
      "27\n"
     ]
    }
   ],
   "source": [
    "print('27')"
   ]
  },
  {
   "cell_type": "markdown",
   "id": "cf630545",
   "metadata": {},
   "source": [
    "# float"
   ]
  },
  {
   "cell_type": "code",
   "execution_count": 12,
   "id": "19b0d19a",
   "metadata": {},
   "outputs": [
    {
     "name": "stdout",
     "output_type": "stream",
     "text": [
      "27.09\n"
     ]
    }
   ],
   "source": [
    "print('27.09')"
   ]
  },
  {
   "cell_type": "markdown",
   "id": "93a8aa0a",
   "metadata": {},
   "source": [
    "# complex"
   ]
  },
  {
   "cell_type": "code",
   "execution_count": 14,
   "id": "b190b989",
   "metadata": {},
   "outputs": [
    {
     "name": "stdout",
     "output_type": "stream",
     "text": [
      "(2+7j)\n"
     ]
    }
   ],
   "source": [
    "print(2+7j)"
   ]
  },
  {
   "cell_type": "markdown",
   "id": "a8ec4fac",
   "metadata": {},
   "source": [
    "# list"
   ]
  },
  {
   "cell_type": "code",
   "execution_count": 15,
   "id": "4206d66e",
   "metadata": {},
   "outputs": [
    {
     "name": "stdout",
     "output_type": "stream",
     "text": [
      "['27', '22', '22', '45']\n"
     ]
    }
   ],
   "source": [
    "print(['27','22','22','45'])"
   ]
  },
  {
   "cell_type": "markdown",
   "id": "be2b869e",
   "metadata": {},
   "source": [
    "# Tuple"
   ]
  },
  {
   "cell_type": "code",
   "execution_count": 17,
   "id": "f96bfca0",
   "metadata": {},
   "outputs": [
    {
     "name": "stdout",
     "output_type": "stream",
     "text": [
      "('27', '28', '29', '30')\n"
     ]
    }
   ],
   "source": [
    "print(('27','28','29','30'))"
   ]
  },
  {
   "cell_type": "markdown",
   "id": "00bd1ce9",
   "metadata": {},
   "source": [
    "# range"
   ]
  },
  {
   "cell_type": "code",
   "execution_count": 18,
   "id": "e4da43da",
   "metadata": {},
   "outputs": [
    {
     "name": "stdout",
     "output_type": "stream",
     "text": [
      "range(0, 27)\n"
     ]
    }
   ],
   "source": [
    "x = range(27)\n",
    "\n",
    "#display x:\n",
    "print(x)"
   ]
  },
  {
   "cell_type": "markdown",
   "id": "75c31636",
   "metadata": {},
   "source": [
    "# dict"
   ]
  },
  {
   "cell_type": "code",
   "execution_count": 21,
   "id": "aa846a63",
   "metadata": {},
   "outputs": [
    {
     "name": "stdout",
     "output_type": "stream",
     "text": [
      "{'Name': 'Jatin', 'Age': '22', 'Gender': 'Male'}\n"
     ]
    }
   ],
   "source": [
    "print({\"Name\":\"Jatin\",\"Age\":\"22\",\"Gender\":\"Male\"})"
   ]
  },
  {
   "cell_type": "markdown",
   "id": "62e2d156",
   "metadata": {},
   "source": [
    "\n",
    "# sets"
   ]
  },
  {
   "cell_type": "code",
   "execution_count": 22,
   "id": "c86c580c",
   "metadata": {},
   "outputs": [
    {
     "name": "stdout",
     "output_type": "stream",
     "text": [
      "{1, 2, 3, 4, 5, 6}\n"
     ]
    }
   ],
   "source": [
    "print({1,2,3,4,5,6})"
   ]
  },
  {
   "cell_type": "markdown",
   "id": "3ab06c8c",
   "metadata": {},
   "source": [
    "# frozensets"
   ]
  },
  {
   "cell_type": "code",
   "execution_count": 23,
   "id": "9fa1ed55",
   "metadata": {},
   "outputs": [
    {
     "name": "stdout",
     "output_type": "stream",
     "text": [
      "frozenset({'cherry', 'banana', 'apple'})\n"
     ]
    }
   ],
   "source": [
    "print(frozenset({\"apple\", \"banana\", \"cherry\"}))"
   ]
  },
  {
   "cell_type": "markdown",
   "id": "da64ff75",
   "metadata": {},
   "source": [
    "# boolean"
   ]
  },
  {
   "cell_type": "code",
   "execution_count": 24,
   "id": "eace983c",
   "metadata": {},
   "outputs": [
    {
     "name": "stdout",
     "output_type": "stream",
     "text": [
      "True\n",
      "False\n"
     ]
    }
   ],
   "source": [
    "print(True)\n",
    "print(False)"
   ]
  },
  {
   "cell_type": "code",
   "execution_count": 2,
   "id": "a4b21f68",
   "metadata": {},
   "outputs": [
    {
     "ename": "SyntaxError",
     "evalue": "invalid syntax (3325309853.py, line 1)",
     "output_type": "error",
     "traceback": [
      "\u001b[1;36m  Cell \u001b[1;32mIn[2], line 1\u001b[1;36m\u001b[0m\n\u001b[1;33m    git clone https://github.com/jatingulia27/-100-Days-of-Data-Science.git\u001b[0m\n\u001b[1;37m        ^\u001b[0m\n\u001b[1;31mSyntaxError\u001b[0m\u001b[1;31m:\u001b[0m invalid syntax\n"
     ]
    }
   ],
   "source": [
    "git clone https://github.com/jatingulia27/-100-Days-of-Data-Science.git"
   ]
  },
  {
   "cell_type": "code",
   "execution_count": null,
   "id": "3d9fec39",
   "metadata": {},
   "outputs": [],
   "source": []
  }
 ],
 "metadata": {
  "kernelspec": {
   "display_name": "Python 3 (ipykernel)",
   "language": "python",
   "name": "python3"
  },
  "language_info": {
   "codemirror_mode": {
    "name": "ipython",
    "version": 3
   },
   "file_extension": ".py",
   "mimetype": "text/x-python",
   "name": "python",
   "nbconvert_exporter": "python",
   "pygments_lexer": "ipython3",
   "version": "3.11.5"
  }
 },
 "nbformat": 4,
 "nbformat_minor": 5
}
