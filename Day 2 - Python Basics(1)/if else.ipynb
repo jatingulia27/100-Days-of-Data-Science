{
 "cells": [
  {
   "cell_type": "markdown",
   "id": "9d93f8b3",
   "metadata": {},
   "source": [
    "\n",
    "\n",
    "# if else , nested if else\n"
   ]
  },
  {
   "cell_type": "code",
   "execution_count": 4,
   "id": "b8a78db8",
   "metadata": {},
   "outputs": [
    {
     "name": "stdout",
     "output_type": "stream",
     "text": [
      "sahi hai\n"
     ]
    }
   ],
   "source": [
    "a=10\n",
    "b=20\n",
    "if a==10 and b==20:\n",
    "    print('sahi hai')\n",
    "else:\n",
    "    print('galt hai')"
   ]
  },
  {
   "cell_type": "code",
   "execution_count": 3,
   "id": "378e5ad1",
   "metadata": {},
   "outputs": [
    {
     "name": "stdout",
     "output_type": "stream",
     "text": [
      "email k hai: jatingulia135@gmail.com\n",
      "password bhi bta de: gg\n",
      "sahi password bta de\n",
      "sahi password bol: followkar\n",
      "haa ib andr aja\n"
     ]
    }
   ],
   "source": [
    "#email=jatingulia135@gmail.com\n",
    "#password=followkar\n",
    "\n",
    "\n",
    "email=input('email k hai: ')\n",
    "password=input('password bhi bta de: ')\n",
    "\n",
    "if email== 'jatingulia135@gmail.com' and password == 'followkar':\n",
    "    print('andr aja')\n",
    "elif email== 'jatingulia135@gmail.com' and password != 'followkar':\n",
    "    print('sahi password bta de')\n",
    "    password= input('sahi password bol: ')\n",
    "    if password =='followkar':\n",
    "        print('haa ib andr aja')\n",
    "    else:\n",
    "        print('nkl ja')\n",
    "else:\n",
    "    print('chla ja .......')\n",
    "    "
   ]
  },
  {
   "cell_type": "code",
   "execution_count": null,
   "id": "635cd2df",
   "metadata": {},
   "outputs": [],
   "source": []
  },
  {
   "cell_type": "code",
   "execution_count": null,
   "id": "f3e06b79",
   "metadata": {},
   "outputs": [],
   "source": []
  }
 ],
 "metadata": {
  "kernelspec": {
   "display_name": "Python 3 (ipykernel)",
   "language": "python",
   "name": "python3"
  },
  "language_info": {
   "codemirror_mode": {
    "name": "ipython",
    "version": 3
   },
   "file_extension": ".py",
   "mimetype": "text/x-python",
   "name": "python",
   "nbconvert_exporter": "python",
   "pygments_lexer": "ipython3",
   "version": "3.11.5"
  }
 },
 "nbformat": 4,
 "nbformat_minor": 5
}
