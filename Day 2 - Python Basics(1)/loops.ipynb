{
 "cells": [
  {
   "cell_type": "markdown",
   "id": "18cc7138",
   "metadata": {},
   "source": [
    "# loops"
   ]
  },
  {
   "cell_type": "code",
   "execution_count": null,
   "id": "c8366f8c",
   "metadata": {},
   "outputs": [],
   "source": [
    "#while\n",
    "#for\n"
   ]
  },
  {
   "cell_type": "code",
   "execution_count": null,
   "id": "db308eb2",
   "metadata": {},
   "outputs": [],
   "source": [
    "while condition:\n",
    "    your code"
   ]
  },
  {
   "cell_type": "code",
   "execution_count": 10,
   "id": "1e1470c6",
   "metadata": {},
   "outputs": [
    {
     "name": "stdout",
     "output_type": "stream",
     "text": [
      "enter yr number:10\n",
      "10\n",
      "20\n",
      "30\n",
      "40\n",
      "50\n",
      "60\n",
      "70\n",
      "80\n",
      "90\n",
      "100\n"
     ]
    }
   ],
   "source": [
    "n=int(input('enter yr number:'))\n",
    "i=1\n",
    "while i<11:\n",
    "    print(n*i)\n",
    "    i+=1"
   ]
  },
  {
   "cell_type": "code",
   "execution_count": null,
   "id": "b28e7326",
   "metadata": {},
   "outputs": [],
   "source": []
  }
 ],
 "metadata": {
  "kernelspec": {
   "display_name": "Python 3 (ipykernel)",
   "language": "python",
   "name": "python3"
  },
  "language_info": {
   "codemirror_mode": {
    "name": "ipython",
    "version": 3
   },
   "file_extension": ".py",
   "mimetype": "text/x-python",
   "name": "python",
   "nbconvert_exporter": "python",
   "pygments_lexer": "ipython3",
   "version": "3.11.5"
  }
 },
 "nbformat": 4,
 "nbformat_minor": 5
}
