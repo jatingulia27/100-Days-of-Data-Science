{
 "cells": [
  {
   "cell_type": "markdown",
   "id": "0b687c76",
   "metadata": {},
   "source": [
    "# BULIT IN FUNCTIONS"
   ]
  },
  {
   "cell_type": "markdown",
   "id": "d156277e",
   "metadata": {},
   "source": [
    "# print()"
   ]
  },
  {
   "cell_type": "code",
   "execution_count": 22,
   "id": "9306242b",
   "metadata": {},
   "outputs": [
    {
     "name": "stdout",
     "output_type": "stream",
     "text": [
      "Hello, World!\n"
     ]
    }
   ],
   "source": [
    "print(\"Hello, World!\")"
   ]
  },
  {
   "cell_type": "markdown",
   "id": "96b27c1b",
   "metadata": {},
   "source": [
    "# len(): Returns the length of an object."
   ]
  },
  {
   "cell_type": "code",
   "execution_count": 23,
   "id": "6f1734a6",
   "metadata": {},
   "outputs": [
    {
     "name": "stdout",
     "output_type": "stream",
     "text": [
      "5\n"
     ]
    }
   ],
   "source": [
    "my_string = \"Hello\"\n",
    "print(len(my_string))  # Output: 5"
   ]
  },
  {
   "cell_type": "markdown",
   "id": "e74ef508",
   "metadata": {},
   "source": [
    "# range(): Generates a sequence of numbers.\n"
   ]
  },
  {
   "cell_type": "code",
   "execution_count": 24,
   "id": "480725ed",
   "metadata": {},
   "outputs": [
    {
     "name": "stdout",
     "output_type": "stream",
     "text": [
      "0\n",
      "1\n",
      "2\n",
      "3\n",
      "4\n"
     ]
    }
   ],
   "source": [
    "for num in range(5):\n",
    "    print(num)  # Output: 0 1 2 3 4"
   ]
  },
  {
   "cell_type": "markdown",
   "id": "f98b7d07",
   "metadata": {},
   "source": [
    "# input(): Allows user input.\n"
   ]
  },
  {
   "cell_type": "code",
   "execution_count": 25,
   "id": "ed9ee383",
   "metadata": {},
   "outputs": [
    {
     "name": "stdout",
     "output_type": "stream",
     "text": [
      "Enter your name: \n",
      "Hello, \n"
     ]
    }
   ],
   "source": [
    "name = input(\"Enter your name: \")\n",
    "print(\"Hello, \" + name)"
   ]
  },
  {
   "cell_type": "markdown",
   "id": "2928dd0d",
   "metadata": {},
   "source": [
    "# int(): Converts a value to an integer.\n"
   ]
  },
  {
   "cell_type": "code",
   "execution_count": 26,
   "id": "083fdfdd",
   "metadata": {},
   "outputs": [],
   "source": [
    "num_str = \"10\"\n",
    "num_int = int(num_str)"
   ]
  },
  {
   "cell_type": "markdown",
   "id": "bb93f6db",
   "metadata": {},
   "source": [
    "# str(): Converts a value to a string."
   ]
  },
  {
   "cell_type": "code",
   "execution_count": 27,
   "id": "6d42a93a",
   "metadata": {},
   "outputs": [],
   "source": [
    "num = 10\n",
    "num_str = str(num)"
   ]
  },
  {
   "cell_type": "markdown",
   "id": "070a07a7",
   "metadata": {},
   "source": [
    "# list(): Creates a list."
   ]
  },
  {
   "cell_type": "code",
   "execution_count": 28,
   "id": "8b138b3f",
   "metadata": {},
   "outputs": [
    {
     "name": "stdout",
     "output_type": "stream",
     "text": [
      "[0, 1, 2, 3, 4]\n"
     ]
    }
   ],
   "source": [
    "my_list = list(range(5))\n",
    "print(my_list)"
   ]
  },
  {
   "cell_type": "markdown",
   "id": "0a8ed499",
   "metadata": {},
   "source": [
    "# dict(): Creates a dictionary."
   ]
  },
  {
   "cell_type": "code",
   "execution_count": 29,
   "id": "7a21569d",
   "metadata": {},
   "outputs": [
    {
     "name": "stdout",
     "output_type": "stream",
     "text": [
      "{'name': 'John', 'age': 30}\n"
     ]
    }
   ],
   "source": [
    "my_dict = dict(name=\"John\", age=30)\n",
    "print(my_dict)"
   ]
  },
  {
   "cell_type": "markdown",
   "id": "b6378933",
   "metadata": {},
   "source": [
    "# max(): Returns the largest item in an iterable or the largest of two or more arguments."
   ]
  },
  {
   "cell_type": "code",
   "execution_count": 30,
   "id": "dd1bb193",
   "metadata": {},
   "outputs": [
    {
     "name": "stdout",
     "output_type": "stream",
     "text": [
      "9\n"
     ]
    }
   ],
   "source": [
    "numbers = [3, 7, 2, 9]\n",
    "print(max(numbers))  # Output: 9"
   ]
  },
  {
   "cell_type": "markdown",
   "id": "c7363762",
   "metadata": {},
   "source": [
    "# min(): Returns the smallest item in an iterable or the smallest of two or more arguments.\n"
   ]
  },
  {
   "cell_type": "code",
   "execution_count": 31,
   "id": "68de4439",
   "metadata": {},
   "outputs": [
    {
     "name": "stdout",
     "output_type": "stream",
     "text": [
      "2\n"
     ]
    }
   ],
   "source": [
    "numbers = [3, 7, 2, 9]\n",
    "print(min(numbers))  # Output: 2"
   ]
  },
  {
   "cell_type": "markdown",
   "id": "2caaee99",
   "metadata": {},
   "source": [
    "# sum(): Returns the sum of all items in an iterable.\n",
    "\n",
    "\n"
   ]
  },
  {
   "cell_type": "code",
   "execution_count": 32,
   "id": "aedc2f28",
   "metadata": {},
   "outputs": [
    {
     "name": "stdout",
     "output_type": "stream",
     "text": [
      "10\n"
     ]
    }
   ],
   "source": [
    "numbers = [1, 2, 3, 4]\n",
    "print(sum(numbers))  # Output: 10"
   ]
  },
  {
   "cell_type": "markdown",
   "id": "a5bf3dcd",
   "metadata": {},
   "source": [
    "# abs(): Returns the absolute value of a number.\n"
   ]
  },
  {
   "cell_type": "code",
   "execution_count": 33,
   "id": "d464cd78",
   "metadata": {},
   "outputs": [
    {
     "name": "stdout",
     "output_type": "stream",
     "text": [
      "5\n"
     ]
    }
   ],
   "source": [
    "num = -5\n",
    "print(abs(num))  # Output: 5"
   ]
  },
  {
   "cell_type": "markdown",
   "id": "98b99b98",
   "metadata": {},
   "source": [
    "# sorted(): Returns a sorted list from the given iterable.\n"
   ]
  },
  {
   "cell_type": "code",
   "execution_count": 34,
   "id": "aeffe6f4",
   "metadata": {},
   "outputs": [
    {
     "name": "stdout",
     "output_type": "stream",
     "text": [
      "[1, 1, 2, 3, 4, 5, 6, 9]\n"
     ]
    }
   ],
   "source": [
    "numbers = [3, 1, 4, 1, 5, 9, 2, 6]\n",
    "sorted_numbers = sorted(numbers)\n",
    "print(sorted_numbers)"
   ]
  },
  {
   "cell_type": "markdown",
   "id": "c8dba018",
   "metadata": {},
   "source": [
    "# enumerate(): Returns an enumerate object. It adds a counter to an iterable.\n"
   ]
  },
  {
   "cell_type": "code",
   "execution_count": 35,
   "id": "4011650e",
   "metadata": {},
   "outputs": [
    {
     "name": "stdout",
     "output_type": "stream",
     "text": [
      "0 apple\n",
      "1 banana\n",
      "2 cherry\n"
     ]
    }
   ],
   "source": [
    "fruits = ['apple', 'banana', 'cherry']\n",
    "for idx, fruit in enumerate(fruits):\n",
    "    print(idx, fruit)"
   ]
  },
  {
   "cell_type": "markdown",
   "id": "025fcfc3",
   "metadata": {},
   "source": [
    "# map(): Applies a function to all the items in an input iterable.\n"
   ]
  },
  {
   "cell_type": "code",
   "execution_count": 36,
   "id": "a9a57472",
   "metadata": {},
   "outputs": [
    {
     "name": "stdout",
     "output_type": "stream",
     "text": [
      "[1, 4, 9, 16]\n"
     ]
    }
   ],
   "source": [
    "numbers = [1, 2, 3, 4]\n",
    "\n",
    "squared = list(map(lambda x: x**2, numbers))\n",
    "print(squared)"
   ]
  }
 ],
 "metadata": {
  "kernelspec": {
   "display_name": "Python 3 (ipykernel)",
   "language": "python",
   "name": "python3"
  },
  "language_info": {
   "codemirror_mode": {
    "name": "ipython",
    "version": 3
   },
   "file_extension": ".py",
   "mimetype": "text/x-python",
   "name": "python",
   "nbconvert_exporter": "python",
   "pygments_lexer": "ipython3",
   "version": "3.11.5"
  }
 },
 "nbformat": 4,
 "nbformat_minor": 5
}
